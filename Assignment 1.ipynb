{
 "cells": [
  {
   "cell_type": "markdown",
   "metadata": {},
   "source": [
    "# ASSIGNMENT !\n",
    "## HYEONGGU LIM (2021311558)"
   ]
  },
  {
   "cell_type": "markdown",
   "metadata": {},
   "source": [
    "## 1. Guessing Game"
   ]
  },
  {
   "cell_type": "code",
   "execution_count": 4,
   "metadata": {},
   "outputs": [
    {
     "name": "stdout",
     "output_type": "stream",
     "text": [
      "1\n",
      "too low\n",
      "2\n",
      "too high\n",
      "6\n",
      "too low\n",
      "1\n",
      "too low\n",
      "3\n",
      "exactly right\n",
      "2\n",
      "too low\n",
      "exit\n",
      "The Number of guesses you tried:6.\n"
     ]
    }
   ],
   "source": [
    "import random # importing random module\n",
    "how_many = 0 \n",
    "while(True):\n",
    "    guess_num = input() #assumed number\n",
    "\n",
    "    # ends when typed \"exit\" by using IF\n",
    "    if guess_num == \"exit\":\n",
    "        print(\"The Number of guesses you tried:%d.\"%how_many)\n",
    "        break\n",
    "\n",
    "    random_number = random.randint(1,10) # creating random number\n",
    "    how_many += 1\n",
    "\n",
    "    # comparing the input number with randomly created number\n",
    "    if random_number > int(guess_num):\n",
    "        print(\"too low\")\n",
    "    elif random_number < int(guess_num):\n",
    "        print(\"too high\")\n",
    "    else:\n",
    "        print(\"exactly right\")"
   ]
  },
  {
   "cell_type": "markdown",
   "metadata": {},
   "source": [
    "## 2. Check Primality"
   ]
  },
  {
   "cell_type": "code",
   "execution_count": 9,
   "metadata": {},
   "outputs": [
    {
     "name": "stdout",
     "output_type": "stream",
     "text": [
      "The Number is 12\n",
      "NOT A Prime\n"
     ]
    }
   ],
   "source": [
    "def prime_check(num):\n",
    "    t = 2\n",
    "    while t * t <= num: #checking if there is any number that is divided into t (\"if divided \" means not a prime)\n",
    "        if num % t == 0:\n",
    "            return print(\"NOT A Prime\")\n",
    "        t += 1\n",
    "    return print(\"Prime Number\")\n",
    "\n",
    "\n",
    "random_number = random.randint(1,10*3) #randomly creaing number\n",
    "print(\"The Number is %d\"%random_number)\n",
    "prime_check(random_number)"
   ]
  },
  {
   "cell_type": "markdown",
   "metadata": {},
   "source": [
    "## 3. Remove Duplicates"
   ]
  },
  {
   "cell_type": "code",
   "execution_count": 11,
   "metadata": {},
   "outputs": [
    {
     "name": "stdout",
     "output_type": "stream",
     "text": [
      "[1, 2, 3, 4]\n"
     ]
    }
   ],
   "source": [
    "lit = [1,2,3,4,1,2,3]\n",
    "r_lit = list(set(lit)) #using SET characteristic\n",
    "print(r_lit)\n"
   ]
  },
  {
   "cell_type": "markdown",
   "metadata": {},
   "source": [
    "## 4. Max of Three"
   ]
  },
  {
   "cell_type": "code",
   "execution_count": 33,
   "metadata": {},
   "outputs": [
    {
     "name": "stdout",
     "output_type": "stream",
     "text": [
      "2 2 100\n",
      "100\n"
     ]
    }
   ],
   "source": [
    "def return_max(a,b,c):\n",
    "    if a > b and a>c: #checking a \n",
    "        return a\n",
    "    elif b >a and b >c:#checking b\n",
    "        return b\n",
    "    else: # if a,b not a max number, c must be max number\n",
    "        return c\n",
    "\n",
    "\n",
    "a,b,c = map(int,input().split(\" \")) # getting 3 number \n",
    "ans = return_max(a,b,c)\n",
    "print(ans)"
   ]
  },
  {
   "cell_type": "code",
   "execution_count": 30,
   "metadata": {},
   "outputs": [
    {
     "name": "stdout",
     "output_type": "stream",
     "text": [
      "100\n"
     ]
    }
   ],
   "source": [
    "print(a)"
   ]
  },
  {
   "cell_type": "code",
   "execution_count": null,
   "metadata": {},
   "outputs": [],
   "source": []
  }
 ],
 "metadata": {
  "kernelspec": {
   "display_name": "Python 3",
   "language": "python",
   "name": "python3"
  },
  "language_info": {
   "codemirror_mode": {
    "name": "ipython",
    "version": 3
   },
   "file_extension": ".py",
   "mimetype": "text/x-python",
   "name": "python",
   "nbconvert_exporter": "python",
   "pygments_lexer": "ipython3",
   "version": "3.8.5"
  }
 },
 "nbformat": 4,
 "nbformat_minor": 4
}
